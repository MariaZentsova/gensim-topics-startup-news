{
 "cells": [
  {
   "cell_type": "markdown",
   "id": "38e216d9",
   "metadata": {},
   "source": [
    "## 1. Install and import the libraries"
   ]
  },
  {
   "cell_type": "code",
   "execution_count": null,
   "id": "397750f4",
   "metadata": {},
   "outputs": [],
   "source": [
    "%pip install -U pip setuptools wheel\n",
    "%pip install -U spacy\n",
    "!python -m spacy download en_core_web_sm\n",
    "%pip install gensim\n",
    "%pip install pyLDAvis"
   ]
  },
  {
   "cell_type": "code",
   "execution_count": 3,
   "id": "301056a9",
   "metadata": {},
   "outputs": [],
   "source": [
    "# libraries for text cleaning and manipulation\n",
    "import ast\n",
    "from bs4 import BeautifulSoup\n",
    "import unicodedata\n",
    "import re\n",
    "import boto3\n",
    "import pandas as pd"
   ]
  },
  {
   "cell_type": "code",
   "execution_count": 4,
   "id": "ed385839",
   "metadata": {},
   "outputs": [],
   "source": [
    "# to show progress bar\n",
    "from tqdm import tqdm\n",
    "# for pretty printing\n",
    "import pprint"
   ]
  },
  {
   "cell_type": "code",
   "execution_count": 5,
   "id": "b0ee7faf",
   "metadata": {},
   "outputs": [],
   "source": [
    "# nlp library\n",
    "import spacy"
   ]
  },
  {
   "cell_type": "code",
   "execution_count": 6,
   "id": "8d1b95b3",
   "metadata": {},
   "outputs": [],
   "source": [
    "# for topic modelling\n",
    "from gensim.models.phrases import Phrases, Phraser, ENGLISH_CONNECTOR_WORDS\n",
    "from gensim import corpora\n",
    "from gensim.models import ldamodel, TfidfModel"
   ]
  },
  {
   "cell_type": "markdown",
   "id": "a8b417ae",
   "metadata": {},
   "source": [
    "## 2. Read and clean the data"
   ]
  },
  {
   "cell_type": "code",
   "execution_count": 7,
   "id": "e3817c38",
   "metadata": {},
   "outputs": [],
   "source": [
    "# Getting data from AWS S3 bucket\n",
    "s3 = boto3.client('s3')\n",
    "obj = s3.get_object(Bucket = 'process-news',Key = 'techcrunch_data.csv')"
   ]
  },
  {
   "cell_type": "code",
   "execution_count": 8,
   "id": "5afd8635",
   "metadata": {},
   "outputs": [
    {
     "name": "stderr",
     "output_type": "stream",
     "text": [
      "/home/ec2-user/anaconda3/envs/tensorflow2_p36/lib/python3.6/site-packages/IPython/core/interactiveshell.py:3072: DtypeWarning: Columns (35,47,48,49,51) have mixed types.Specify dtype option on import or set low_memory=False.\n",
      "  interactivity=interactivity, compiler=compiler, result=result)\n"
     ]
    }
   ],
   "source": [
    "techcrunch_data = pd.read_csv(obj['Body'])"
   ]
  },
  {
   "cell_type": "code",
   "execution_count": 9,
   "id": "b9e567c0",
   "metadata": {},
   "outputs": [
    {
     "data": {
      "text/plain": [
       "(32634, 54)"
      ]
     },
     "execution_count": 9,
     "metadata": {},
     "output_type": "execute_result"
    }
   ],
   "source": [
    "techcrunch_data.shape"
   ]
  },
  {
   "cell_type": "code",
   "execution_count": 10,
   "id": "3a4971b7",
   "metadata": {},
   "outputs": [
    {
     "data": {
      "text/plain": [
       "Index(['Unnamed: 0', 'Unnamed: 0.1', 'id', 'date', 'date_gmt', 'guid',\n",
       "       'modified', 'modified_gmt', 'slug', 'status', 'type', 'link', 'title',\n",
       "       'content', 'excerpt', 'author', 'featured_media', 'comment_status',\n",
       "       'ping_status', 'sticky', 'template', 'format', 'meta', 'categories',\n",
       "       'tags', 'crunchbase_tag', 'tc_stories_tax', 'tc_ec_category',\n",
       "       'tc_event', 'jetpack_featured_media_url', 'shortlink', 'rapidData',\n",
       "       'premiumContent', 'premiumCutoffPercent', 'featured', 'subtitle',\n",
       "       'seoTitle', 'editorialContentProvider', 'seoDescription',\n",
       "       'tc_cb_mapping', 'associatedEvent', 'event', 'authors',\n",
       "       'hide_featured_image', 'canonical_url', '_links', '_embedded',\n",
       "       'tc_show', 'vidible_hash', 'thumbnail_url', 'videoDuration',\n",
       "       'parentLink', 'accessLevel', 'slides'],\n",
       "      dtype='object')"
      ]
     },
     "execution_count": 10,
     "metadata": {},
     "output_type": "execute_result"
    }
   ],
   "source": [
    "techcrunch_data.columns"
   ]
  },
  {
   "cell_type": "code",
   "execution_count": 11,
   "id": "f44e9983",
   "metadata": {},
   "outputs": [],
   "source": [
    "# Cleaning the data\n",
    "techcrunch_data[\"clean_title\"] =  [ast.literal_eval(x)['rendered'] for x in techcrunch_data[\"title\"]]\n",
    "techcrunch_data[\"clean_content\"] =  [ast.literal_eval(x)['rendered'] for x in techcrunch_data[\"content\"]]"
   ]
  },
  {
   "cell_type": "code",
   "execution_count": 12,
   "id": "a3f5754b",
   "metadata": {},
   "outputs": [],
   "source": [
    "# Concatenate title and content in one string\n",
    "techcrunch_data['clean_text'] = techcrunch_data[\"clean_title\"] + ' ' + techcrunch_data[\"clean_content\"]"
   ]
  },
  {
   "cell_type": "code",
   "execution_count": 13,
   "id": "b9b47b1f",
   "metadata": {},
   "outputs": [],
   "source": [
    "# getting a text from the markup\n",
    "techcrunch_data[\"clean_text\"] = [ BeautifulSoup(text, 'lxml').text for text in techcrunch_data[\"clean_text\"]]"
   ]
  },
  {
   "cell_type": "code",
   "execution_count": 14,
   "id": "5426025b",
   "metadata": {},
   "outputs": [],
   "source": [
    "# remove unicode characters\n",
    "techcrunch_data[\"clean_text\"] = [unicodedata.normalize('NFKD', x) for x in techcrunch_data[\"clean_text\"]]"
   ]
  },
  {
   "cell_type": "code",
   "execution_count": null,
   "id": "a90335be",
   "metadata": {},
   "outputs": [],
   "source": [
    "# replace /n, /t and /r\n",
    "techcrunch_data[\"clean_text\"] = [x.replace('\\n',' ').replace('\\t', ' ').replace('\\r', ' ') for x in techcrunch_data[\"clean_text\"]]"
   ]
  }
 ],
 "metadata": {
  "kernelspec": {
   "display_name": "conda_tensorflow2_p36",
   "language": "python",
   "name": "conda_tensorflow2_p36"
  },
  "language_info": {
   "codemirror_mode": {
    "name": "ipython",
    "version": 3
   },
   "file_extension": ".py",
   "mimetype": "text/x-python",
   "name": "python",
   "nbconvert_exporter": "python",
   "pygments_lexer": "ipython3",
   "version": "3.6.13"
  }
 },
 "nbformat": 4,
 "nbformat_minor": 5
}
